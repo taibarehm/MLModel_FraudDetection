{
 "cells": [
  {
   "cell_type": "markdown",
   "id": "4f8bfa07",
   "metadata": {},
   "source": [
    "# In Excel converted \"Type \" to catogorical values:\n",
    "like:\n",
    "    \n",
    "   'CASH_IN' -1\n",
    "   \n",
    "   ' CASH_OUT' -2\n",
    "   \n",
    "   ' DEBIT'-3\n",
    "   \n",
    "   ' PAYMENT'-4\n",
    "   \n",
    "   'TRANSFER'-5\n",
    "   \n",
    " using =IF(B2=\"PAYMENT\",1,IF(B2=\"TRANSFER\",2,IF(B2=\"DEBIT\",3,IF(B2=\"CASH_IN\",4,IF(B2=\"CASH_OUT\",5,6)))))"
   ]
  },
  {
   "cell_type": "markdown",
   "id": "5649ed25",
   "metadata": {},
   "source": [
    "1. Data cleaning including missing values, outliers and multi-collinearity.\n",
    "\n",
    "\n",
    "Data cleaning is an important step in any data analysis project. It involves identifying and correcting errors \n",
    "in the data such as missing values, outliers and multi-collinearity. \n",
    "This step is important because it ensures that the data is accurate and reliable.\n",
    "\n",
    "2. Describe your fraud detection model in elaboration. \n",
    "\n",
    "\n",
    "Fraud detection models are designed to identify fraudulent transactions or activities. There are many different types \n",
    "of fraud detection models, but they all work by analyzing data to identify patterns that are indicative of fraud.\n",
    "The model can then use these patterns to flag potentially fraudulent transactions for further investigation.\n",
    "\n",
    "3. How did you select variables to be included in the model?\n",
    "\n",
    "\n",
    "The variables that are included in a fraud detection model will depend on the specific model being used and the data \n",
    "that is available. In general, variables that are highly correlated with fraudulent activity will be included in the model.\n",
    "\n",
    "4. Demonstrate the performance of the model by using best set of tools. \n",
    "\n",
    "\n",
    "There are many different tools that can be used to demonstrate the performance of a fraud detection model.\n",
    "Some common tools include ROC curves, confusion matrices, and precision-recall curves.\n",
    "\n",
    "5. What are the key factors that predict fraudulent customer? \n",
    "\n",
    "\n",
    "The key factors that predict fraudulent customer will depend on the specific data being analyzed.\n",
    "However, some common factors that are often used in fraud detection models include transaction amount, \n",
    "transaction frequency, and geographic location.\n",
    "\n",
    "6. Do these factors make sense? If yes, How? If not, How not? \n",
    "\n",
    "\n",
    "Whether or not the factors used in a fraud detection model make sense will depend on the specific data \n",
    "being analyzed and the context of the analysis. In general, factors that are highly correlated with fraudulent \n",
    "activity will be included in the model.\n",
    "\n",
    "7. What kind of prevention should be adopted while company update its infrastructure?\n",
    "\n",
    "\n",
    "There are many different prevention strategies that can be adopted to prevent fraud. Some common strategies \n",
    "include implementing strong authentication measures, monitoring transactions for suspicious activity, and educating c\n",
    "ustomers about how to protect themselves from fraud.\n",
    "\n",
    "8. Assuming these actions have been implemented, how would you determine if they work\n",
    "\n",
    "The effectiveness of fraud prevention strategies can be evaluated by monitoring key metrics such as the number \n",
    "of fraudulent transactions detected and prevented over time."
   ]
  },
  {
   "cell_type": "code",
   "execution_count": 48,
   "id": "385937e6",
   "metadata": {},
   "outputs": [],
   "source": [
    "import pandas as pd\n",
    "import numpy as np\n",
    "from sklearn.model_selection import train_test_split\n",
    "import re\n",
    "from matplotlib import pyplot as plt\n",
    "import seaborn as sns\n",
    "from sklearn.ensemble import GradientBoostingClassifier\n",
    "from sklearn.ensemble import GradientBoostingRegressor\n",
    "from sklearn.metrics import r2_score, explained_variance_score, mean_absolute_error, mean_squared_error\n",
    "from math import sqrt\n",
    "# Model training libraries\n",
    "from sklearn.model_selection import train_test_split\n",
    "from sklearn.model_selection import StratifiedKFold\n",
    "from sklearn.model_selection import GridSearchCV,RandomizedSearchCV\n",
    "from collections import Counter\n",
    "\n",
    "from sklearn.linear_model import LogisticRegression\n",
    "from sklearn.ensemble import RandomForestClassifier\n",
    "\n",
    "# For checking acuracy\n",
    "from sklearn.metrics import confusion_matrix, accuracy_score, classification_report\n",
    "from sklearn.model_selection import RandomizedSearchCV, StratifiedKFold, train_test_split\n",
    "from sklearn.linear_model import LogisticRegressionCV\n",
    "from sklearn.model_selection import KFold\n",
    "from sklearn.metrics import r2_score, explained_variance_score, confusion_matrix, accuracy_score, classification_report, log_loss"
   ]
  },
  {
   "cell_type": "code",
   "execution_count": 49,
   "id": "90dc2a9b",
   "metadata": {},
   "outputs": [],
   "source": [
    "traindata=pd.read_csv(\"C:/Users/ASU/Desktop/New folder/Fraud.csv\")"
   ]
  },
  {
   "cell_type": "code",
   "execution_count": 50,
   "id": "5ff7b17f",
   "metadata": {},
   "outputs": [
    {
     "data": {
      "text/html": [
       "<div>\n",
       "<style scoped>\n",
       "    .dataframe tbody tr th:only-of-type {\n",
       "        vertical-align: middle;\n",
       "    }\n",
       "\n",
       "    .dataframe tbody tr th {\n",
       "        vertical-align: top;\n",
       "    }\n",
       "\n",
       "    .dataframe thead th {\n",
       "        text-align: right;\n",
       "    }\n",
       "</style>\n",
       "<table border=\"1\" class=\"dataframe\">\n",
       "  <thead>\n",
       "    <tr style=\"text-align: right;\">\n",
       "      <th></th>\n",
       "      <th>step</th>\n",
       "      <th>type</th>\n",
       "      <th>Catogorical_type</th>\n",
       "      <th>amount</th>\n",
       "      <th>nameOrig</th>\n",
       "      <th>oldbalanceOrg</th>\n",
       "      <th>newbalanceOrig</th>\n",
       "      <th>nameDest</th>\n",
       "      <th>oldbalanceDest</th>\n",
       "      <th>newbalanceDest</th>\n",
       "      <th>isFraud</th>\n",
       "      <th>isFlaggedFraud</th>\n",
       "    </tr>\n",
       "  </thead>\n",
       "  <tbody>\n",
       "    <tr>\n",
       "      <th>0</th>\n",
       "      <td>1</td>\n",
       "      <td>PAYMENT</td>\n",
       "      <td>1</td>\n",
       "      <td>9839.64</td>\n",
       "      <td>C1231006815</td>\n",
       "      <td>170136.00</td>\n",
       "      <td>160296.36</td>\n",
       "      <td>M1979787155</td>\n",
       "      <td>0.0</td>\n",
       "      <td>0.00</td>\n",
       "      <td>0</td>\n",
       "      <td>0</td>\n",
       "    </tr>\n",
       "    <tr>\n",
       "      <th>1</th>\n",
       "      <td>1</td>\n",
       "      <td>PAYMENT</td>\n",
       "      <td>1</td>\n",
       "      <td>1864.28</td>\n",
       "      <td>C1666544295</td>\n",
       "      <td>21249.00</td>\n",
       "      <td>19384.72</td>\n",
       "      <td>M2044282225</td>\n",
       "      <td>0.0</td>\n",
       "      <td>0.00</td>\n",
       "      <td>0</td>\n",
       "      <td>0</td>\n",
       "    </tr>\n",
       "    <tr>\n",
       "      <th>2</th>\n",
       "      <td>1</td>\n",
       "      <td>TRANSFER</td>\n",
       "      <td>2</td>\n",
       "      <td>181.00</td>\n",
       "      <td>C1305486145</td>\n",
       "      <td>181.00</td>\n",
       "      <td>0.00</td>\n",
       "      <td>C553264065</td>\n",
       "      <td>0.0</td>\n",
       "      <td>0.00</td>\n",
       "      <td>1</td>\n",
       "      <td>0</td>\n",
       "    </tr>\n",
       "    <tr>\n",
       "      <th>3</th>\n",
       "      <td>1</td>\n",
       "      <td>CASH_OUT</td>\n",
       "      <td>5</td>\n",
       "      <td>181.00</td>\n",
       "      <td>C840083671</td>\n",
       "      <td>181.00</td>\n",
       "      <td>0.00</td>\n",
       "      <td>C38997010</td>\n",
       "      <td>21182.0</td>\n",
       "      <td>0.00</td>\n",
       "      <td>1</td>\n",
       "      <td>0</td>\n",
       "    </tr>\n",
       "    <tr>\n",
       "      <th>4</th>\n",
       "      <td>1</td>\n",
       "      <td>PAYMENT</td>\n",
       "      <td>1</td>\n",
       "      <td>11668.14</td>\n",
       "      <td>C2048537720</td>\n",
       "      <td>41554.00</td>\n",
       "      <td>29885.86</td>\n",
       "      <td>M1230701703</td>\n",
       "      <td>0.0</td>\n",
       "      <td>0.00</td>\n",
       "      <td>0</td>\n",
       "      <td>0</td>\n",
       "    </tr>\n",
       "    <tr>\n",
       "      <th>5</th>\n",
       "      <td>1</td>\n",
       "      <td>PAYMENT</td>\n",
       "      <td>1</td>\n",
       "      <td>7817.71</td>\n",
       "      <td>C90045638</td>\n",
       "      <td>53860.00</td>\n",
       "      <td>46042.29</td>\n",
       "      <td>M573487274</td>\n",
       "      <td>0.0</td>\n",
       "      <td>0.00</td>\n",
       "      <td>0</td>\n",
       "      <td>0</td>\n",
       "    </tr>\n",
       "    <tr>\n",
       "      <th>6</th>\n",
       "      <td>1</td>\n",
       "      <td>PAYMENT</td>\n",
       "      <td>1</td>\n",
       "      <td>7107.77</td>\n",
       "      <td>C154988899</td>\n",
       "      <td>183195.00</td>\n",
       "      <td>176087.23</td>\n",
       "      <td>M408069119</td>\n",
       "      <td>0.0</td>\n",
       "      <td>0.00</td>\n",
       "      <td>0</td>\n",
       "      <td>0</td>\n",
       "    </tr>\n",
       "    <tr>\n",
       "      <th>7</th>\n",
       "      <td>1</td>\n",
       "      <td>PAYMENT</td>\n",
       "      <td>1</td>\n",
       "      <td>7861.64</td>\n",
       "      <td>C1912850431</td>\n",
       "      <td>176087.23</td>\n",
       "      <td>168225.59</td>\n",
       "      <td>M633326333</td>\n",
       "      <td>0.0</td>\n",
       "      <td>0.00</td>\n",
       "      <td>0</td>\n",
       "      <td>0</td>\n",
       "    </tr>\n",
       "    <tr>\n",
       "      <th>8</th>\n",
       "      <td>1</td>\n",
       "      <td>PAYMENT</td>\n",
       "      <td>1</td>\n",
       "      <td>4024.36</td>\n",
       "      <td>C1265012928</td>\n",
       "      <td>2671.00</td>\n",
       "      <td>0.00</td>\n",
       "      <td>M1176932104</td>\n",
       "      <td>0.0</td>\n",
       "      <td>0.00</td>\n",
       "      <td>0</td>\n",
       "      <td>0</td>\n",
       "    </tr>\n",
       "    <tr>\n",
       "      <th>9</th>\n",
       "      <td>1</td>\n",
       "      <td>DEBIT</td>\n",
       "      <td>3</td>\n",
       "      <td>5337.77</td>\n",
       "      <td>C712410124</td>\n",
       "      <td>41720.00</td>\n",
       "      <td>36382.23</td>\n",
       "      <td>C195600860</td>\n",
       "      <td>41898.0</td>\n",
       "      <td>40348.79</td>\n",
       "      <td>0</td>\n",
       "      <td>0</td>\n",
       "    </tr>\n",
       "  </tbody>\n",
       "</table>\n",
       "</div>"
      ],
      "text/plain": [
       "   step      type  Catogorical_type    amount     nameOrig  oldbalanceOrg  \\\n",
       "0     1   PAYMENT                 1   9839.64  C1231006815      170136.00   \n",
       "1     1   PAYMENT                 1   1864.28  C1666544295       21249.00   \n",
       "2     1  TRANSFER                 2    181.00  C1305486145         181.00   \n",
       "3     1  CASH_OUT                 5    181.00   C840083671         181.00   \n",
       "4     1   PAYMENT                 1  11668.14  C2048537720       41554.00   \n",
       "5     1   PAYMENT                 1   7817.71    C90045638       53860.00   \n",
       "6     1   PAYMENT                 1   7107.77   C154988899      183195.00   \n",
       "7     1   PAYMENT                 1   7861.64  C1912850431      176087.23   \n",
       "8     1   PAYMENT                 1   4024.36  C1265012928        2671.00   \n",
       "9     1     DEBIT                 3   5337.77   C712410124       41720.00   \n",
       "\n",
       "   newbalanceOrig     nameDest  oldbalanceDest  newbalanceDest  isFraud  \\\n",
       "0       160296.36  M1979787155             0.0            0.00        0   \n",
       "1        19384.72  M2044282225             0.0            0.00        0   \n",
       "2            0.00   C553264065             0.0            0.00        1   \n",
       "3            0.00    C38997010         21182.0            0.00        1   \n",
       "4        29885.86  M1230701703             0.0            0.00        0   \n",
       "5        46042.29   M573487274             0.0            0.00        0   \n",
       "6       176087.23   M408069119             0.0            0.00        0   \n",
       "7       168225.59   M633326333             0.0            0.00        0   \n",
       "8            0.00  M1176932104             0.0            0.00        0   \n",
       "9        36382.23   C195600860         41898.0        40348.79        0   \n",
       "\n",
       "   isFlaggedFraud  \n",
       "0               0  \n",
       "1               0  \n",
       "2               0  \n",
       "3               0  \n",
       "4               0  \n",
       "5               0  \n",
       "6               0  \n",
       "7               0  \n",
       "8               0  \n",
       "9               0  "
      ]
     },
     "execution_count": 50,
     "metadata": {},
     "output_type": "execute_result"
    }
   ],
   "source": [
    "traindata.head(10)"
   ]
  },
  {
   "cell_type": "markdown",
   "id": "b6ce376e",
   "metadata": {},
   "source": [
    "EDA"
   ]
  },
  {
   "cell_type": "code",
   "execution_count": 51,
   "id": "5536845c",
   "metadata": {},
   "outputs": [
    {
     "name": "stdout",
     "output_type": "stream",
     "text": [
      "<class 'pandas.core.frame.DataFrame'>\n",
      "RangeIndex: 1048575 entries, 0 to 1048574\n",
      "Data columns (total 12 columns):\n",
      " #   Column            Non-Null Count    Dtype  \n",
      "---  ------            --------------    -----  \n",
      " 0   step              1048575 non-null  int64  \n",
      " 1   type              1048575 non-null  object \n",
      " 2   Catogorical_type  1048575 non-null  int64  \n",
      " 3   amount            1048575 non-null  float64\n",
      " 4   nameOrig          1048575 non-null  object \n",
      " 5   oldbalanceOrg     1048575 non-null  float64\n",
      " 6   newbalanceOrig    1048575 non-null  float64\n",
      " 7   nameDest          1048575 non-null  object \n",
      " 8   oldbalanceDest    1048575 non-null  float64\n",
      " 9   newbalanceDest    1048575 non-null  float64\n",
      " 10  isFraud           1048575 non-null  int64  \n",
      " 11  isFlaggedFraud    1048575 non-null  int64  \n",
      "dtypes: float64(5), int64(4), object(3)\n",
      "memory usage: 96.0+ MB\n"
     ]
    }
   ],
   "source": [
    "#we dont want null value in dataset \n",
    "traindata.info()"
   ]
  },
  {
   "cell_type": "code",
   "execution_count": 52,
   "id": "d172d666",
   "metadata": {},
   "outputs": [
    {
     "data": {
      "text/plain": [
       "12"
      ]
     },
     "execution_count": 52,
     "metadata": {},
     "output_type": "execute_result"
    }
   ],
   "source": [
    "#So very thing is not null\n",
    "traindata.nunique().count()"
   ]
  },
  {
   "cell_type": "code",
   "execution_count": 53,
   "id": "3cf2c3c7",
   "metadata": {},
   "outputs": [
    {
     "data": {
      "text/plain": [
       "(1048575, 12)"
      ]
     },
     "execution_count": 53,
     "metadata": {},
     "output_type": "execute_result"
    }
   ],
   "source": [
    "traindata.shape"
   ]
  },
  {
   "cell_type": "code",
   "execution_count": 54,
   "id": "3ef18c96",
   "metadata": {},
   "outputs": [
    {
     "data": {
      "text/plain": [
       "step                  int64\n",
       "type                 object\n",
       "Catogorical_type      int64\n",
       "amount              float64\n",
       "nameOrig             object\n",
       "oldbalanceOrg       float64\n",
       "newbalanceOrig      float64\n",
       "nameDest             object\n",
       "oldbalanceDest      float64\n",
       "newbalanceDest      float64\n",
       "isFraud               int64\n",
       "isFlaggedFraud        int64\n",
       "dtype: object"
      ]
     },
     "execution_count": 54,
     "metadata": {},
     "output_type": "execute_result"
    }
   ],
   "source": [
    "#Data Types\n",
    "traindata.dtypes"
   ]
  },
  {
   "cell_type": "code",
   "execution_count": 55,
   "id": "fa27b04b",
   "metadata": {},
   "outputs": [
    {
     "data": {
      "text/plain": [
       "step                1048575\n",
       "type                1048575\n",
       "Catogorical_type    1048575\n",
       "amount              1048575\n",
       "nameOrig            1048575\n",
       "oldbalanceOrg       1048575\n",
       "newbalanceOrig      1048575\n",
       "nameDest            1048575\n",
       "oldbalanceDest      1048575\n",
       "newbalanceDest      1048575\n",
       "isFraud             1048575\n",
       "isFlaggedFraud      1048575\n",
       "dtype: int64"
      ]
     },
     "execution_count": 55,
     "metadata": {},
     "output_type": "execute_result"
    }
   ],
   "source": [
    "traindata.count()"
   ]
  },
  {
   "cell_type": "code",
   "execution_count": 56,
   "id": "bccba9f0",
   "metadata": {},
   "outputs": [
    {
     "name": "stdout",
     "output_type": "stream",
     "text": [
      "The number of values for features STEP  : 95 \n",
      "The number of values for features  TYPE  : 5 ----  ['CASH_IN' 'CASH_OUT' 'DEBIT' 'PAYMENT' 'TRANSFER']\n",
      "The number of values for features  CATOGORICAL_TYPE  : 5 ----  [1 2 3 4 5]\n",
      "The number of values for features AMOUNT  : 1009606 \n",
      "The number of values for features NAMEORIG  : 1048317 \n",
      "The number of values for features OLDBALANCEORG  : 391033 \n",
      "The number of values for features NEWBALANCEORIG  : 440792 \n",
      "The number of values for features NAMEDEST  : 449635 \n",
      "The number of values for features OLDBALANCEDEST  : 590110 \n",
      "The number of values for features NEWBALANCEDEST  : 437054 \n",
      "The number of values for features  ISFRAUD  : 2 ----  [0 1]\n",
      "The number of values for features  ISFLAGGEDFRAUD  : 1 ----  [0]\n"
     ]
    }
   ],
   "source": [
    "#Investigate all the elements with each data feature\n",
    "#unique vqlues can be string numeric or so on\n",
    "\n",
    "for coloums in traindata:\n",
    "    try:\n",
    "        unique_values=np.unique(traindata[coloums])\n",
    "    except:\n",
    "        unique_values=traindata[coloums].unique()\n",
    "    nr_values=len(unique_values)\n",
    "    if nr_values<10:\n",
    "        print('The number of values for features  {}  : {} ----  {}'.format(coloums.upper(),nr_values,unique_values))\n",
    "    else:\n",
    "        print('The number of values for features {}  : {} '.format(coloums.upper(),nr_values))"
   ]
  },
  {
   "cell_type": "markdown",
   "id": "2f0f6348",
   "metadata": {},
   "source": [
    "Missing Data As models cannot take in null values, it is important to check for and handle missing data before modeling."
   ]
  },
  {
   "cell_type": "code",
   "execution_count": 57,
   "id": "591e3555",
   "metadata": {},
   "outputs": [
    {
     "data": {
      "text/plain": [
       "step                0\n",
       "type                0\n",
       "Catogorical_type    0\n",
       "amount              0\n",
       "nameOrig            0\n",
       "oldbalanceOrg       0\n",
       "newbalanceOrig      0\n",
       "nameDest            0\n",
       "oldbalanceDest      0\n",
       "newbalanceDest      0\n",
       "isFraud             0\n",
       "isFlaggedFraud      0\n",
       "dtype: int64"
      ]
     },
     "execution_count": 57,
     "metadata": {},
     "output_type": "execute_result"
    }
   ],
   "source": [
    "# Checking for missing data\n",
    "traindata.isnull().sum()"
   ]
  },
  {
   "cell_type": "markdown",
   "id": "fab1f2cf",
   "metadata": {},
   "source": [
    "\n",
    "\"\" we do not expect any duplicates. However, it is good practice to ensure our dataset does not contain duplicates."
   ]
  },
  {
   "cell_type": "code",
   "execution_count": 58,
   "id": "f1ab8070",
   "metadata": {},
   "outputs": [
    {
     "data": {
      "text/html": [
       "<div>\n",
       "<style scoped>\n",
       "    .dataframe tbody tr th:only-of-type {\n",
       "        vertical-align: middle;\n",
       "    }\n",
       "\n",
       "    .dataframe tbody tr th {\n",
       "        vertical-align: top;\n",
       "    }\n",
       "\n",
       "    .dataframe thead th {\n",
       "        text-align: right;\n",
       "    }\n",
       "</style>\n",
       "<table border=\"1\" class=\"dataframe\">\n",
       "  <thead>\n",
       "    <tr style=\"text-align: right;\">\n",
       "      <th></th>\n",
       "      <th>step</th>\n",
       "      <th>type</th>\n",
       "      <th>Catogorical_type</th>\n",
       "      <th>amount</th>\n",
       "      <th>nameOrig</th>\n",
       "      <th>oldbalanceOrg</th>\n",
       "      <th>newbalanceOrig</th>\n",
       "      <th>nameDest</th>\n",
       "      <th>oldbalanceDest</th>\n",
       "      <th>newbalanceDest</th>\n",
       "      <th>isFraud</th>\n",
       "      <th>isFlaggedFraud</th>\n",
       "    </tr>\n",
       "  </thead>\n",
       "  <tbody>\n",
       "  </tbody>\n",
       "</table>\n",
       "</div>"
      ],
      "text/plain": [
       "Empty DataFrame\n",
       "Columns: [step, type, Catogorical_type, amount, nameOrig, oldbalanceOrg, newbalanceOrig, nameDest, oldbalanceDest, newbalanceDest, isFraud, isFlaggedFraud]\n",
       "Index: []"
      ]
     },
     "execution_count": 58,
     "metadata": {},
     "output_type": "execute_result"
    }
   ],
   "source": [
    "\n",
    "# Checking for duplicates: \n",
    "traindata[traindata.duplicated(keep='first')]"
   ]
  },
  {
   "cell_type": "markdown",
   "id": "ba49891e",
   "metadata": {},
   "source": [
    "hence,Our dataset No contains duplicates. "
   ]
  },
  {
   "cell_type": "code",
   "execution_count": 59,
   "id": "3383f7ec",
   "metadata": {},
   "outputs": [
    {
     "name": "stdout",
     "output_type": "stream",
     "text": [
      "Data does not have any NULL value.\n"
     ]
    },
    {
     "data": {
      "text/plain": [
       "step                False\n",
       "type                False\n",
       "Catogorical_type    False\n",
       "amount              False\n",
       "nameOrig            False\n",
       "oldbalanceOrg       False\n",
       "newbalanceOrig      False\n",
       "nameDest            False\n",
       "oldbalanceDest      False\n",
       "newbalanceDest      False\n",
       "isFraud             False\n",
       "isFlaggedFraud      False\n",
       "dtype: bool"
      ]
     },
     "execution_count": 59,
     "metadata": {},
     "output_type": "execute_result"
    }
   ],
   "source": [
    "print('Data does not have any NULL value.')\n",
    "traindata.isnull().any()"
   ]
  },
  {
   "cell_type": "markdown",
   "id": "c0ede6ab",
   "metadata": {},
   "source": [
    "Visualization"
   ]
  },
  {
   "cell_type": "code",
   "execution_count": 60,
   "id": "f32a2173",
   "metadata": {},
   "outputs": [
    {
     "data": {
      "text/html": [
       "<div>\n",
       "<style scoped>\n",
       "    .dataframe tbody tr th:only-of-type {\n",
       "        vertical-align: middle;\n",
       "    }\n",
       "\n",
       "    .dataframe tbody tr th {\n",
       "        vertical-align: top;\n",
       "    }\n",
       "\n",
       "    .dataframe thead th {\n",
       "        text-align: right;\n",
       "    }\n",
       "</style>\n",
       "<table border=\"1\" class=\"dataframe\">\n",
       "  <thead>\n",
       "    <tr style=\"text-align: right;\">\n",
       "      <th></th>\n",
       "      <th>step</th>\n",
       "      <th>type</th>\n",
       "      <th>Catogorical_type</th>\n",
       "      <th>amount</th>\n",
       "      <th>nameOrig</th>\n",
       "      <th>oldbalanceOrg</th>\n",
       "      <th>newbalanceOrig</th>\n",
       "      <th>nameDest</th>\n",
       "      <th>oldbalanceDest</th>\n",
       "      <th>newbalanceDest</th>\n",
       "      <th>isFraud</th>\n",
       "      <th>isFlaggedFraud</th>\n",
       "    </tr>\n",
       "  </thead>\n",
       "  <tbody>\n",
       "    <tr>\n",
       "      <th>2</th>\n",
       "      <td>1</td>\n",
       "      <td>TRANSFER</td>\n",
       "      <td>2</td>\n",
       "      <td>181.00</td>\n",
       "      <td>C1305486145</td>\n",
       "      <td>181.00</td>\n",
       "      <td>0.0</td>\n",
       "      <td>C553264065</td>\n",
       "      <td>0.00</td>\n",
       "      <td>0.00</td>\n",
       "      <td>1</td>\n",
       "      <td>0</td>\n",
       "    </tr>\n",
       "    <tr>\n",
       "      <th>3</th>\n",
       "      <td>1</td>\n",
       "      <td>CASH_OUT</td>\n",
       "      <td>5</td>\n",
       "      <td>181.00</td>\n",
       "      <td>C840083671</td>\n",
       "      <td>181.00</td>\n",
       "      <td>0.0</td>\n",
       "      <td>C38997010</td>\n",
       "      <td>21182.00</td>\n",
       "      <td>0.00</td>\n",
       "      <td>1</td>\n",
       "      <td>0</td>\n",
       "    </tr>\n",
       "    <tr>\n",
       "      <th>251</th>\n",
       "      <td>1</td>\n",
       "      <td>TRANSFER</td>\n",
       "      <td>2</td>\n",
       "      <td>2806.00</td>\n",
       "      <td>C1420196421</td>\n",
       "      <td>2806.00</td>\n",
       "      <td>0.0</td>\n",
       "      <td>C972765878</td>\n",
       "      <td>0.00</td>\n",
       "      <td>0.00</td>\n",
       "      <td>1</td>\n",
       "      <td>0</td>\n",
       "    </tr>\n",
       "    <tr>\n",
       "      <th>252</th>\n",
       "      <td>1</td>\n",
       "      <td>CASH_OUT</td>\n",
       "      <td>5</td>\n",
       "      <td>2806.00</td>\n",
       "      <td>C2101527076</td>\n",
       "      <td>2806.00</td>\n",
       "      <td>0.0</td>\n",
       "      <td>C1007251739</td>\n",
       "      <td>26202.00</td>\n",
       "      <td>0.00</td>\n",
       "      <td>1</td>\n",
       "      <td>0</td>\n",
       "    </tr>\n",
       "    <tr>\n",
       "      <th>680</th>\n",
       "      <td>1</td>\n",
       "      <td>TRANSFER</td>\n",
       "      <td>2</td>\n",
       "      <td>20128.00</td>\n",
       "      <td>C137533655</td>\n",
       "      <td>20128.00</td>\n",
       "      <td>0.0</td>\n",
       "      <td>C1848415041</td>\n",
       "      <td>0.00</td>\n",
       "      <td>0.00</td>\n",
       "      <td>1</td>\n",
       "      <td>0</td>\n",
       "    </tr>\n",
       "    <tr>\n",
       "      <th>...</th>\n",
       "      <td>...</td>\n",
       "      <td>...</td>\n",
       "      <td>...</td>\n",
       "      <td>...</td>\n",
       "      <td>...</td>\n",
       "      <td>...</td>\n",
       "      <td>...</td>\n",
       "      <td>...</td>\n",
       "      <td>...</td>\n",
       "      <td>...</td>\n",
       "      <td>...</td>\n",
       "      <td>...</td>\n",
       "    </tr>\n",
       "    <tr>\n",
       "      <th>1047888</th>\n",
       "      <td>95</td>\n",
       "      <td>CASH_OUT</td>\n",
       "      <td>5</td>\n",
       "      <td>56745.14</td>\n",
       "      <td>C526144262</td>\n",
       "      <td>56745.14</td>\n",
       "      <td>0.0</td>\n",
       "      <td>C79051264</td>\n",
       "      <td>51433.88</td>\n",
       "      <td>108179.02</td>\n",
       "      <td>1</td>\n",
       "      <td>0</td>\n",
       "    </tr>\n",
       "    <tr>\n",
       "      <th>1048221</th>\n",
       "      <td>95</td>\n",
       "      <td>TRANSFER</td>\n",
       "      <td>2</td>\n",
       "      <td>33676.59</td>\n",
       "      <td>C732111322</td>\n",
       "      <td>33676.59</td>\n",
       "      <td>0.0</td>\n",
       "      <td>C1140210295</td>\n",
       "      <td>0.00</td>\n",
       "      <td>0.00</td>\n",
       "      <td>1</td>\n",
       "      <td>0</td>\n",
       "    </tr>\n",
       "    <tr>\n",
       "      <th>1048222</th>\n",
       "      <td>95</td>\n",
       "      <td>CASH_OUT</td>\n",
       "      <td>5</td>\n",
       "      <td>33676.59</td>\n",
       "      <td>C1000086512</td>\n",
       "      <td>33676.59</td>\n",
       "      <td>0.0</td>\n",
       "      <td>C1759363094</td>\n",
       "      <td>0.00</td>\n",
       "      <td>33676.59</td>\n",
       "      <td>1</td>\n",
       "      <td>0</td>\n",
       "    </tr>\n",
       "    <tr>\n",
       "      <th>1048323</th>\n",
       "      <td>95</td>\n",
       "      <td>TRANSFER</td>\n",
       "      <td>2</td>\n",
       "      <td>87999.25</td>\n",
       "      <td>C927181710</td>\n",
       "      <td>87999.25</td>\n",
       "      <td>0.0</td>\n",
       "      <td>C757947873</td>\n",
       "      <td>0.00</td>\n",
       "      <td>0.00</td>\n",
       "      <td>1</td>\n",
       "      <td>0</td>\n",
       "    </tr>\n",
       "    <tr>\n",
       "      <th>1048324</th>\n",
       "      <td>95</td>\n",
       "      <td>CASH_OUT</td>\n",
       "      <td>5</td>\n",
       "      <td>87999.25</td>\n",
       "      <td>C409531429</td>\n",
       "      <td>87999.25</td>\n",
       "      <td>0.0</td>\n",
       "      <td>C1827219533</td>\n",
       "      <td>0.00</td>\n",
       "      <td>87999.25</td>\n",
       "      <td>1</td>\n",
       "      <td>0</td>\n",
       "    </tr>\n",
       "  </tbody>\n",
       "</table>\n",
       "<p>1142 rows × 12 columns</p>\n",
       "</div>"
      ],
      "text/plain": [
       "         step      type  Catogorical_type    amount     nameOrig  \\\n",
       "2           1  TRANSFER                 2    181.00  C1305486145   \n",
       "3           1  CASH_OUT                 5    181.00   C840083671   \n",
       "251         1  TRANSFER                 2   2806.00  C1420196421   \n",
       "252         1  CASH_OUT                 5   2806.00  C2101527076   \n",
       "680         1  TRANSFER                 2  20128.00   C137533655   \n",
       "...       ...       ...               ...       ...          ...   \n",
       "1047888    95  CASH_OUT                 5  56745.14   C526144262   \n",
       "1048221    95  TRANSFER                 2  33676.59   C732111322   \n",
       "1048222    95  CASH_OUT                 5  33676.59  C1000086512   \n",
       "1048323    95  TRANSFER                 2  87999.25   C927181710   \n",
       "1048324    95  CASH_OUT                 5  87999.25   C409531429   \n",
       "\n",
       "         oldbalanceOrg  newbalanceOrig     nameDest  oldbalanceDest  \\\n",
       "2               181.00             0.0   C553264065            0.00   \n",
       "3               181.00             0.0    C38997010        21182.00   \n",
       "251            2806.00             0.0   C972765878            0.00   \n",
       "252            2806.00             0.0  C1007251739        26202.00   \n",
       "680           20128.00             0.0  C1848415041            0.00   \n",
       "...                ...             ...          ...             ...   \n",
       "1047888       56745.14             0.0    C79051264        51433.88   \n",
       "1048221       33676.59             0.0  C1140210295            0.00   \n",
       "1048222       33676.59             0.0  C1759363094            0.00   \n",
       "1048323       87999.25             0.0   C757947873            0.00   \n",
       "1048324       87999.25             0.0  C1827219533            0.00   \n",
       "\n",
       "         newbalanceDest  isFraud  isFlaggedFraud  \n",
       "2                  0.00        1               0  \n",
       "3                  0.00        1               0  \n",
       "251                0.00        1               0  \n",
       "252                0.00        1               0  \n",
       "680                0.00        1               0  \n",
       "...                 ...      ...             ...  \n",
       "1047888       108179.02        1               0  \n",
       "1048221            0.00        1               0  \n",
       "1048222        33676.59        1               0  \n",
       "1048323            0.00        1               0  \n",
       "1048324        87999.25        1               0  \n",
       "\n",
       "[1142 rows x 12 columns]"
      ]
     },
     "execution_count": 60,
     "metadata": {},
     "output_type": "execute_result"
    }
   ],
   "source": [
    "traindata[traindata['isFraud']==1]"
   ]
  },
  {
   "cell_type": "code",
   "execution_count": 61,
   "id": "a5d61eba",
   "metadata": {},
   "outputs": [
    {
     "data": {
      "image/png": "[encoded data removed]",
      "text/plain": [
       "<Figure size 504x216 with 1 Axes>"
      ]
     },
     "metadata": {
      "needs_background": "light"
     },
     "output_type": "display_data"
    }
   ],
   "source": [
    "plt.figure(figsize=(7,3))\n",
    "plt.title('type vs count')\n",
    "sns.countplot(data=traindata,x='type',palette='coolwarm')\n",
    "plt.xlabel('Type')\n",
    "plt.ylabel('Count')\n",
    "plt.show()"
   ]
  },
  {
   "cell_type": "code",
   "execution_count": 62,
   "id": "fab6c2b2",
   "metadata": {},
   "outputs": [
    {
     "name": "stderr",
     "output_type": "stream",
     "text": [
      "C:\\Users\\ASU\\anaconda3\\lib\\site-packages\\seaborn\\distributions.py:2619: FutureWarning: `distplot` is a deprecated function and will be removed in a future version. Please adapt your code to use either `displot` (a figure-level function with similar flexibility) or `histplot` (an axes-level function for histograms).\n",
      "  warnings.warn(msg, FutureWarning)\n",
      "C:\\Users\\ASU\\anaconda3\\lib\\site-packages\\seaborn\\distributions.py:2619: FutureWarning: `distplot` is a deprecated function and will be removed in a future version. Please adapt your code to use either `displot` (a figure-level function with similar flexibility) or `histplot` (an axes-level function for histograms).\n",
      "  warnings.warn(msg, FutureWarning)\n"
     ]
    },
    {
     "data": {
      "image/png": "[encoded data removed]",
      "text/plain": [
       "<Figure size 1296x288 with 2 Axes>"
      ]
     },
     "metadata": {
      "needs_background": "light"
     },
     "output_type": "display_data"
    }
   ],
   "source": [
    "# Plotting subplot for amount and time column \n",
    "fig, ax = plt.subplots(1, 2, figsize=(18,4))\n",
    "amount_val = traindata['amount'].values\n",
    "time_val = traindata['step'].values\n",
    "Catogorical_type=traindata['Catogorical_type']\n",
    "\n",
    "sns.distplot(amount_val, ax=ax[0], color='r')\n",
    "ax[0].set_title('Distribution of Transaction Amount', fontsize=14)\n",
    "ax[0].set_xlim([min(amount_val), max(amount_val)])\n",
    "\n",
    "sns.distplot(time_val, ax=ax[1], color='b')\n",
    "ax[1].set_title('Distribution of Transaction Step', fontsize=14)\n",
    "ax[1].set_xlim([min(time_val), max(time_val)])\n",
    "\n",
    "\n",
    "plt.show()"
   ]
  },
  {
   "cell_type": "code",
   "execution_count": 63,
   "id": "a9d9e9fd",
   "metadata": {},
   "outputs": [
    {
     "data": {
      "image/png": "[encoded data removed]",
      "text/plain": [
       "<Figure size 504x216 with 1 Axes>"
      ]
     },
     "metadata": {
      "needs_background": "light"
     },
     "output_type": "display_data"
    }
   ],
   "source": [
    "# Countplot of 'isFraud'\n",
    "plt.figure(figsize=(7,3))\n",
    "plt.title('isFraud vs count')\n",
    "sns.countplot(data=traindata,x='isFraud')\n",
    "plt.xlabel('isFraud')\n",
    "plt.ylabel('Count')\n",
    "plt.show()"
   ]
  },
  {
   "cell_type": "markdown",
   "id": "8e125087",
   "metadata": {},
   "source": [
    "Note : We can see from above visualization it is an imbalanced dataset "
   ]
  },
  {
   "cell_type": "code",
   "execution_count": 64,
   "id": "15a21b73",
   "metadata": {},
   "outputs": [
    {
     "data": {
      "text/plain": [
       "0    1047433\n",
       "1       1142\n",
       "Name: isFraud, dtype: int64"
      ]
     },
     "execution_count": 64,
     "metadata": {},
     "output_type": "execute_result"
    }
   ],
   "source": [
    "traindata['isFraud'].value_counts()"
   ]
  },
  {
   "cell_type": "code",
   "execution_count": 65,
   "id": "2329b0a4",
   "metadata": {},
   "outputs": [
    {
     "name": "stdout",
     "output_type": "stream",
     "text": [
      "No Frauds: 99.89109028920201\n",
      "Frauds: 0.10890971079798775\n"
     ]
    }
   ],
   "source": [
    "# Let's look at the percentage of each category in isFraud column(target column)\n",
    "print(\"No Frauds:\",traindata['isFraud'].value_counts()[0]/len(traindata['isFraud'])*100)\n",
    "print(\"Frauds:\",traindata['isFraud'].value_counts()[1]/len(traindata['isFraud'])*100)"
   ]
  },
  {
   "cell_type": "code",
   "execution_count": 66,
   "id": "751c38e2",
   "metadata": {},
   "outputs": [],
   "source": [
    "numerical_dataset=['step','Catogorical_type','amount','oldbalanceOrg','newbalanceOrig','oldbalanceDest','newbalanceDest']\n"
   ]
  },
  {
   "cell_type": "code",
   "execution_count": 67,
   "id": "f7b251aa",
   "metadata": {},
   "outputs": [
    {
     "data": {
      "text/plain": [
       "['step',\n",
       " 'Catogorical_type',\n",
       " 'amount',\n",
       " 'oldbalanceOrg',\n",
       " 'newbalanceOrig',\n",
       " 'oldbalanceDest',\n",
       " 'newbalanceDest']"
      ]
     },
     "execution_count": 67,
     "metadata": {},
     "output_type": "execute_result"
    }
   ],
   "source": [
    "numerical_dataset"
   ]
  },
  {
   "cell_type": "code",
   "execution_count": 68,
   "id": "4669d46d",
   "metadata": {},
   "outputs": [
    {
     "data": {
      "image/png": "[encoded data removed]",
      "text/plain": [
       "<Figure size 1440x720 with 8 Axes>"
      ]
     },
     "metadata": {
      "needs_background": "light"
     },
     "output_type": "display_data"
    }
   ],
   "source": [
    "# Boxplot for each variable in numerical list\n",
    "def boxplots_visual(data,column):\n",
    "    fig, ax = plt.subplots(2,4,figsize=(20,10))\n",
    "    fig.suptitle('Boxplot for each variable',y=1, size=20)\n",
    "    ax=ax.flatten()\n",
    "    for i,feature in enumerate(column):\n",
    "        sns.boxplot(data=data[feature],ax=ax[i], orient='h')\n",
    "        ax[i].set_title(feature+ ', skewness is: '+str(round(data[feature].skew(axis = 0, skipna = True),2)),fontsize=15)\n",
    "        ax[i].set_xlim([min(data[feature]), max(data[feature])])\n",
    "boxplots_visual(data=traindata,column=numerical_dataset)\n",
    "plt.tight_layout()"
   ]
  },
  {
   "cell_type": "code",
   "execution_count": 69,
   "id": "d40d5203",
   "metadata": {},
   "outputs": [
    {
     "name": "stdout",
     "output_type": "stream",
     "text": [
      "Unique in nameOrig: 1048317\n",
      "['C1231006815' 'C1666544295' 'C1305486145' ... 'C2037964975' 'C1633237354'\n",
      " 'C1264356443']\n",
      "Unique in nameDest: 449635\n",
      "['M1979787155' 'M2044282225' 'C553264065' ... 'M1355182933' 'M1964992463'\n",
      " 'M677577406']\n"
     ]
    }
   ],
   "source": [
    "# Checking nameOrig,nameDest column\n",
    "nameOrig=traindata['nameOrig'].unique()\n",
    "print(\"Unique in nameOrig:\",len(nameOrig))\n",
    "print(nameOrig)\n",
    "\n",
    "nameDest=traindata['nameDest'].unique()\n",
    "print(\"Unique in nameDest:\",len(nameDest))\n",
    "print(nameDest)"
   ]
  },
  {
   "cell_type": "code",
   "execution_count": 70,
   "id": "1917d486",
   "metadata": {},
   "outputs": [
    {
     "data": {
      "text/plain": [
       "0    1048575\n",
       "Name: isFlaggedFraud, dtype: int64"
      ]
     },
     "execution_count": 70,
     "metadata": {},
     "output_type": "execute_result"
    }
   ],
   "source": [
    "# Checking isFlaggedFraud column\n",
    "traindata['isFlaggedFraud'].value_counts()"
   ]
  },
  {
   "cell_type": "code",
   "execution_count": 71,
   "id": "98bebb5d",
   "metadata": {},
   "outputs": [],
   "source": [
    " # Dropping columns that are not needed\n",
    "traindata.drop(['type','nameOrig','nameDest','isFlaggedFraud'],axis=1,inplace=True)"
   ]
  },
  {
   "cell_type": "code",
   "execution_count": 72,
   "id": "db33d1fd",
   "metadata": {},
   "outputs": [
    {
     "data": {
      "text/html": [
       "<div>\n",
       "<style scoped>\n",
       "    .dataframe tbody tr th:only-of-type {\n",
       "        vertical-align: middle;\n",
       "    }\n",
       "\n",
       "    .dataframe tbody tr th {\n",
       "        vertical-align: top;\n",
       "    }\n",
       "\n",
       "    .dataframe thead th {\n",
       "        text-align: right;\n",
       "    }\n",
       "</style>\n",
       "<table border=\"1\" class=\"dataframe\">\n",
       "  <thead>\n",
       "    <tr style=\"text-align: right;\">\n",
       "      <th></th>\n",
       "      <th>step</th>\n",
       "      <th>amount</th>\n",
       "      <th>oldbalanceOrg</th>\n",
       "      <th>newbalanceOrig</th>\n",
       "      <th>oldbalanceDest</th>\n",
       "      <th>newbalanceDest</th>\n",
       "      <th>isFraud</th>\n",
       "      <th>Catogorical_type_2</th>\n",
       "      <th>Catogorical_type_3</th>\n",
       "      <th>Catogorical_type_4</th>\n",
       "      <th>Catogorical_type_5</th>\n",
       "    </tr>\n",
       "  </thead>\n",
       "  <tbody>\n",
       "    <tr>\n",
       "      <th>0</th>\n",
       "      <td>1</td>\n",
       "      <td>9839.64</td>\n",
       "      <td>170136.0</td>\n",
       "      <td>160296.36</td>\n",
       "      <td>0.0</td>\n",
       "      <td>0.0</td>\n",
       "      <td>0</td>\n",
       "      <td>0</td>\n",
       "      <td>0</td>\n",
       "      <td>0</td>\n",
       "      <td>0</td>\n",
       "    </tr>\n",
       "    <tr>\n",
       "      <th>1</th>\n",
       "      <td>1</td>\n",
       "      <td>1864.28</td>\n",
       "      <td>21249.0</td>\n",
       "      <td>19384.72</td>\n",
       "      <td>0.0</td>\n",
       "      <td>0.0</td>\n",
       "      <td>0</td>\n",
       "      <td>0</td>\n",
       "      <td>0</td>\n",
       "      <td>0</td>\n",
       "      <td>0</td>\n",
       "    </tr>\n",
       "    <tr>\n",
       "      <th>2</th>\n",
       "      <td>1</td>\n",
       "      <td>181.00</td>\n",
       "      <td>181.0</td>\n",
       "      <td>0.00</td>\n",
       "      <td>0.0</td>\n",
       "      <td>0.0</td>\n",
       "      <td>1</td>\n",
       "      <td>1</td>\n",
       "      <td>0</td>\n",
       "      <td>0</td>\n",
       "      <td>0</td>\n",
       "    </tr>\n",
       "    <tr>\n",
       "      <th>3</th>\n",
       "      <td>1</td>\n",
       "      <td>181.00</td>\n",
       "      <td>181.0</td>\n",
       "      <td>0.00</td>\n",
       "      <td>21182.0</td>\n",
       "      <td>0.0</td>\n",
       "      <td>1</td>\n",
       "      <td>0</td>\n",
       "      <td>0</td>\n",
       "      <td>0</td>\n",
       "      <td>1</td>\n",
       "    </tr>\n",
       "    <tr>\n",
       "      <th>4</th>\n",
       "      <td>1</td>\n",
       "      <td>11668.14</td>\n",
       "      <td>41554.0</td>\n",
       "      <td>29885.86</td>\n",
       "      <td>0.0</td>\n",
       "      <td>0.0</td>\n",
       "      <td>0</td>\n",
       "      <td>0</td>\n",
       "      <td>0</td>\n",
       "      <td>0</td>\n",
       "      <td>0</td>\n",
       "    </tr>\n",
       "  </tbody>\n",
       "</table>\n",
       "</div>"
      ],
      "text/plain": [
       "   step    amount  oldbalanceOrg  newbalanceOrig  oldbalanceDest  \\\n",
       "0     1   9839.64       170136.0       160296.36             0.0   \n",
       "1     1   1864.28        21249.0        19384.72             0.0   \n",
       "2     1    181.00          181.0            0.00             0.0   \n",
       "3     1    181.00          181.0            0.00         21182.0   \n",
       "4     1  11668.14        41554.0        29885.86             0.0   \n",
       "\n",
       "   newbalanceDest  isFraud  Catogorical_type_2  Catogorical_type_3  \\\n",
       "0             0.0        0                   0                   0   \n",
       "1             0.0        0                   0                   0   \n",
       "2             0.0        1                   1                   0   \n",
       "3             0.0        1                   0                   0   \n",
       "4             0.0        0                   0                   0   \n",
       "\n",
       "   Catogorical_type_4  Catogorical_type_5  \n",
       "0                   0                   0  \n",
       "1                   0                   0  \n",
       "2                   0                   0  \n",
       "3                   0                   1  \n",
       "4                   0                   0  "
      ]
     },
     "execution_count": 72,
     "metadata": {},
     "output_type": "execute_result"
    }
   ],
   "source": [
    "# Applying onehot encoding on type column\n",
    "df=pd.get_dummies(data=traindata,columns=['Catogorical_type'],drop_first=True)\n",
    "df.head()"
   ]
  },
  {
   "cell_type": "code",
   "execution_count": 73,
   "id": "326e8278",
   "metadata": {},
   "outputs": [],
   "source": [
    "# Preprocessing Libraries\n",
    "from sklearn.preprocessing import RobustScaler"
   ]
  },
  {
   "cell_type": "code",
   "execution_count": 74,
   "id": "b0bb09df",
   "metadata": {},
   "outputs": [
    {
     "data": {
      "text/html": [
       "<div>\n",
       "<style scoped>\n",
       "    .dataframe tbody tr th:only-of-type {\n",
       "        vertical-align: middle;\n",
       "    }\n",
       "\n",
       "    .dataframe tbody tr th {\n",
       "        vertical-align: top;\n",
       "    }\n",
       "\n",
       "    .dataframe thead th {\n",
       "        text-align: right;\n",
       "    }\n",
       "</style>\n",
       "<table border=\"1\" class=\"dataframe\">\n",
       "  <thead>\n",
       "    <tr style=\"text-align: right;\">\n",
       "      <th></th>\n",
       "      <th>step</th>\n",
       "      <th>Catogorical_type</th>\n",
       "      <th>amount</th>\n",
       "      <th>oldbalanceOrg</th>\n",
       "      <th>newbalanceOrig</th>\n",
       "      <th>oldbalanceDest</th>\n",
       "      <th>newbalanceDest</th>\n",
       "      <th>isFraud</th>\n",
       "    </tr>\n",
       "  </thead>\n",
       "  <tbody>\n",
       "    <tr>\n",
       "      <th>0</th>\n",
       "      <td>-0.791667</td>\n",
       "      <td>-0.75</td>\n",
       "      <td>-0.329858</td>\n",
       "      <td>1.128013</td>\n",
       "      <td>0.918078</td>\n",
       "      <td>-0.137978</td>\n",
       "      <td>-0.189823</td>\n",
       "      <td>0</td>\n",
       "    </tr>\n",
       "    <tr>\n",
       "      <th>1</th>\n",
       "      <td>-0.791667</td>\n",
       "      <td>-0.75</td>\n",
       "      <td>-0.369416</td>\n",
       "      <td>0.038400</td>\n",
       "      <td>0.111024</td>\n",
       "      <td>-0.137978</td>\n",
       "      <td>-0.189823</td>\n",
       "      <td>0</td>\n",
       "    </tr>\n",
       "    <tr>\n",
       "      <th>2</th>\n",
       "      <td>-0.791667</td>\n",
       "      <td>-0.50</td>\n",
       "      <td>-0.377765</td>\n",
       "      <td>-0.115784</td>\n",
       "      <td>0.000000</td>\n",
       "      <td>-0.137978</td>\n",
       "      <td>-0.189823</td>\n",
       "      <td>1</td>\n",
       "    </tr>\n",
       "    <tr>\n",
       "      <th>3</th>\n",
       "      <td>-0.791667</td>\n",
       "      <td>0.25</td>\n",
       "      <td>-0.377765</td>\n",
       "      <td>-0.115784</td>\n",
       "      <td>0.000000</td>\n",
       "      <td>-0.114852</td>\n",
       "      <td>-0.189823</td>\n",
       "      <td>1</td>\n",
       "    </tr>\n",
       "    <tr>\n",
       "      <th>4</th>\n",
       "      <td>-0.791667</td>\n",
       "      <td>-0.75</td>\n",
       "      <td>-0.320789</td>\n",
       "      <td>0.187000</td>\n",
       "      <td>0.171168</td>\n",
       "      <td>-0.137978</td>\n",
       "      <td>-0.189823</td>\n",
       "      <td>0</td>\n",
       "    </tr>\n",
       "  </tbody>\n",
       "</table>\n",
       "</div>"
      ],
      "text/plain": [
       "       step  Catogorical_type    amount  oldbalanceOrg  newbalanceOrig  \\\n",
       "0 -0.791667             -0.75 -0.329858       1.128013        0.918078   \n",
       "1 -0.791667             -0.75 -0.369416       0.038400        0.111024   \n",
       "2 -0.791667             -0.50 -0.377765      -0.115784        0.000000   \n",
       "3 -0.791667              0.25 -0.377765      -0.115784        0.000000   \n",
       "4 -0.791667             -0.75 -0.320789       0.187000        0.171168   \n",
       "\n",
       "   oldbalanceDest  newbalanceDest  isFraud  \n",
       "0       -0.137978       -0.189823        0  \n",
       "1       -0.137978       -0.189823        0  \n",
       "2       -0.137978       -0.189823        1  \n",
       "3       -0.114852       -0.189823        1  \n",
       "4       -0.137978       -0.189823        0  "
      ]
     },
     "execution_count": 74,
     "metadata": {},
     "output_type": "execute_result"
    }
   ],
   "source": [
    "# We are using RobustScaler to scale down the numerical features as RobustScaler is less prone to outliers\n",
    "scale=RobustScaler()\n",
    "for feature in numerical_dataset:\n",
    "    traindata[feature]=scale.fit_transform(traindata[feature].values.reshape(-1, 1))\n",
    "traindata.head()"
   ]
  },
  {
   "cell_type": "markdown",
   "id": "501e852d",
   "metadata": {},
   "source": [
    "Model Training"
   ]
  },
  {
   "cell_type": "code",
   "execution_count": 75,
   "id": "9ddbf458",
   "metadata": {},
   "outputs": [],
   "source": [
    "# Splitting our data into independent and dependent features\n",
    "x=traindata.drop('isFraud',axis=1)\n",
    "y=traindata['isFraud']"
   ]
  },
  {
   "cell_type": "code",
   "execution_count": 76,
   "id": "3d872b14",
   "metadata": {},
   "outputs": [
    {
     "data": {
      "text/plain": [
       "Index(['step', 'Catogorical_type', 'amount', 'oldbalanceOrg', 'newbalanceOrig',\n",
       "       'oldbalanceDest', 'newbalanceDest', 'isFraud'],\n",
       "      dtype='object')"
      ]
     },
     "execution_count": 76,
     "metadata": {},
     "output_type": "execute_result"
    }
   ],
   "source": [
    "traindata.columns"
   ]
  },
  {
   "cell_type": "code",
   "execution_count": 77,
   "id": "59f5c80b",
   "metadata": {},
   "outputs": [
    {
     "data": {
      "text/html": [
       "<div>\n",
       "<style scoped>\n",
       "    .dataframe tbody tr th:only-of-type {\n",
       "        vertical-align: middle;\n",
       "    }\n",
       "\n",
       "    .dataframe tbody tr th {\n",
       "        vertical-align: top;\n",
       "    }\n",
       "\n",
       "    .dataframe thead th {\n",
       "        text-align: right;\n",
       "    }\n",
       "</style>\n",
       "<table border=\"1\" class=\"dataframe\">\n",
       "  <thead>\n",
       "    <tr style=\"text-align: right;\">\n",
       "      <th></th>\n",
       "      <th>step</th>\n",
       "      <th>Catogorical_type</th>\n",
       "      <th>amount</th>\n",
       "      <th>oldbalanceOrg</th>\n",
       "      <th>newbalanceOrig</th>\n",
       "      <th>oldbalanceDest</th>\n",
       "      <th>newbalanceDest</th>\n",
       "      <th>isFraud</th>\n",
       "    </tr>\n",
       "  </thead>\n",
       "  <tbody>\n",
       "    <tr>\n",
       "      <th>2</th>\n",
       "      <td>-0.791667</td>\n",
       "      <td>-0.50</td>\n",
       "      <td>-0.377765</td>\n",
       "      <td>-0.115784</td>\n",
       "      <td>0.0</td>\n",
       "      <td>-0.137978</td>\n",
       "      <td>-0.189823</td>\n",
       "      <td>1</td>\n",
       "    </tr>\n",
       "    <tr>\n",
       "      <th>3</th>\n",
       "      <td>-0.791667</td>\n",
       "      <td>0.25</td>\n",
       "      <td>-0.377765</td>\n",
       "      <td>-0.115784</td>\n",
       "      <td>0.0</td>\n",
       "      <td>-0.114852</td>\n",
       "      <td>-0.189823</td>\n",
       "      <td>1</td>\n",
       "    </tr>\n",
       "    <tr>\n",
       "      <th>251</th>\n",
       "      <td>-0.791667</td>\n",
       "      <td>-0.50</td>\n",
       "      <td>-0.364745</td>\n",
       "      <td>-0.096574</td>\n",
       "      <td>0.0</td>\n",
       "      <td>-0.137978</td>\n",
       "      <td>-0.189823</td>\n",
       "      <td>1</td>\n",
       "    </tr>\n",
       "    <tr>\n",
       "      <th>252</th>\n",
       "      <td>-0.791667</td>\n",
       "      <td>0.25</td>\n",
       "      <td>-0.364745</td>\n",
       "      <td>-0.096574</td>\n",
       "      <td>0.0</td>\n",
       "      <td>-0.109371</td>\n",
       "      <td>-0.189823</td>\n",
       "      <td>1</td>\n",
       "    </tr>\n",
       "    <tr>\n",
       "      <th>680</th>\n",
       "      <td>-0.791667</td>\n",
       "      <td>-0.50</td>\n",
       "      <td>-0.278828</td>\n",
       "      <td>0.030196</td>\n",
       "      <td>0.0</td>\n",
       "      <td>-0.137978</td>\n",
       "      <td>-0.189823</td>\n",
       "      <td>1</td>\n",
       "    </tr>\n",
       "    <tr>\n",
       "      <th>...</th>\n",
       "      <td>...</td>\n",
       "      <td>...</td>\n",
       "      <td>...</td>\n",
       "      <td>...</td>\n",
       "      <td>...</td>\n",
       "      <td>...</td>\n",
       "      <td>...</td>\n",
       "      <td>...</td>\n",
       "    </tr>\n",
       "    <tr>\n",
       "      <th>1047888</th>\n",
       "      <td>3.125000</td>\n",
       "      <td>0.25</td>\n",
       "      <td>-0.097207</td>\n",
       "      <td>0.298174</td>\n",
       "      <td>0.0</td>\n",
       "      <td>-0.081823</td>\n",
       "      <td>-0.095739</td>\n",
       "      <td>1</td>\n",
       "    </tr>\n",
       "    <tr>\n",
       "      <th>1048221</th>\n",
       "      <td>3.125000</td>\n",
       "      <td>-0.50</td>\n",
       "      <td>-0.211627</td>\n",
       "      <td>0.129350</td>\n",
       "      <td>0.0</td>\n",
       "      <td>-0.137978</td>\n",
       "      <td>-0.189823</td>\n",
       "      <td>1</td>\n",
       "    </tr>\n",
       "    <tr>\n",
       "      <th>1048222</th>\n",
       "      <td>3.125000</td>\n",
       "      <td>0.25</td>\n",
       "      <td>-0.211627</td>\n",
       "      <td>0.129350</td>\n",
       "      <td>0.0</td>\n",
       "      <td>-0.137978</td>\n",
       "      <td>-0.160534</td>\n",
       "      <td>1</td>\n",
       "    </tr>\n",
       "    <tr>\n",
       "      <th>1048323</th>\n",
       "      <td>3.125000</td>\n",
       "      <td>-0.50</td>\n",
       "      <td>0.057813</td>\n",
       "      <td>0.526904</td>\n",
       "      <td>0.0</td>\n",
       "      <td>-0.137978</td>\n",
       "      <td>-0.189823</td>\n",
       "      <td>1</td>\n",
       "    </tr>\n",
       "    <tr>\n",
       "      <th>1048324</th>\n",
       "      <td>3.125000</td>\n",
       "      <td>0.25</td>\n",
       "      <td>0.057813</td>\n",
       "      <td>0.526904</td>\n",
       "      <td>0.0</td>\n",
       "      <td>-0.137978</td>\n",
       "      <td>-0.113289</td>\n",
       "      <td>1</td>\n",
       "    </tr>\n",
       "  </tbody>\n",
       "</table>\n",
       "<p>1142 rows × 8 columns</p>\n",
       "</div>"
      ],
      "text/plain": [
       "             step  Catogorical_type    amount  oldbalanceOrg  newbalanceOrig  \\\n",
       "2       -0.791667             -0.50 -0.377765      -0.115784             0.0   \n",
       "3       -0.791667              0.25 -0.377765      -0.115784             0.0   \n",
       "251     -0.791667             -0.50 -0.364745      -0.096574             0.0   \n",
       "252     -0.791667              0.25 -0.364745      -0.096574             0.0   \n",
       "680     -0.791667             -0.50 -0.278828       0.030196             0.0   \n",
       "...           ...               ...       ...            ...             ...   \n",
       "1047888  3.125000              0.25 -0.097207       0.298174             0.0   \n",
       "1048221  3.125000             -0.50 -0.211627       0.129350             0.0   \n",
       "1048222  3.125000              0.25 -0.211627       0.129350             0.0   \n",
       "1048323  3.125000             -0.50  0.057813       0.526904             0.0   \n",
       "1048324  3.125000              0.25  0.057813       0.526904             0.0   \n",
       "\n",
       "         oldbalanceDest  newbalanceDest  isFraud  \n",
       "2             -0.137978       -0.189823        1  \n",
       "3             -0.114852       -0.189823        1  \n",
       "251           -0.137978       -0.189823        1  \n",
       "252           -0.109371       -0.189823        1  \n",
       "680           -0.137978       -0.189823        1  \n",
       "...                 ...             ...      ...  \n",
       "1047888       -0.081823       -0.095739        1  \n",
       "1048221       -0.137978       -0.189823        1  \n",
       "1048222       -0.137978       -0.160534        1  \n",
       "1048323       -0.137978       -0.189823        1  \n",
       "1048324       -0.137978       -0.113289        1  \n",
       "\n",
       "[1142 rows x 8 columns]"
      ]
     },
     "execution_count": 77,
     "metadata": {},
     "output_type": "execute_result"
    }
   ],
   "source": [
    "traindata[traindata['isFraud']==1]"
   ]
  },
  {
   "cell_type": "code",
   "execution_count": 78,
   "id": "7a5a0b48",
   "metadata": {},
   "outputs": [
    {
     "name": "stdout",
     "output_type": "stream",
     "text": [
      "[0.39769104 0.06198299 0.13571059 0.18900813 0.03178814 0.06228569\n",
      " 0.12153342]\n"
     ]
    }
   ],
   "source": [
    "# Feature Importance\n",
    "from sklearn.ensemble import ExtraTreesRegressor\n",
    "model = ExtraTreesRegressor()\n",
    "model.fit(x,y)\n",
    "print(model.feature_importances_)"
   ]
  },
  {
   "cell_type": "code",
   "execution_count": 79,
   "id": "8b5b107e",
   "metadata": {},
   "outputs": [
    {
     "data": {
      "image/png": "[encoded data removed]",
      "text/plain": [
       "<Figure size 432x288 with 1 Axes>"
      ]
     },
     "metadata": {
      "needs_background": "light"
     },
     "output_type": "display_data"
    }
   ],
   "source": [
    "#plot graph of feature importances for better visualization\n",
    "feat_importances = pd.Series(model.feature_importances_, index=x.columns)\n",
    "feat_importances.nlargest(10).plot(kind='barh')\n",
    "plt.show()"
   ]
  },
  {
   "cell_type": "code",
   "execution_count": 80,
   "id": "0db996f8",
   "metadata": {},
   "outputs": [],
   "source": [
    "# Doing train_test_split\n",
    "X_train,X_test,y_train,y_test=train_test_split(x,y,train_size=0.7)\n",
    "# Applying StratifiedKFold\n",
    "skf=StratifiedKFold(n_splits=3, shuffle=False, random_state=None)"
   ]
  },
  {
   "cell_type": "code",
   "execution_count": 81,
   "id": "724a0064",
   "metadata": {},
   "outputs": [
    {
     "name": "stderr",
     "output_type": "stream",
     "text": [
      "C:\\Users\\ASU\\anaconda3\\lib\\site-packages\\sklearn\\model_selection\\_search.py:292: UserWarning: The total space of parameters 3 is smaller than n_iter=10. Running 3 iterations. For exhaustive searches, use GridSearchCV.\n",
      "  warnings.warn(\n"
     ]
    },
    {
     "data": {
      "text/plain": [
       "RandomizedSearchCV(cv=StratifiedKFold(n_splits=3, random_state=None, shuffle=False),\n",
       "                   estimator=LogisticRegression(), n_jobs=-1,\n",
       "                   param_distributions={'C': array([ 0.1,  1. , 10. ])},\n",
       "                   scoring='accuracy')"
      ]
     },
     "execution_count": 81,
     "metadata": {},
     "output_type": "execute_result"
    }
   ],
   "source": [
    "model1=LogisticRegression()\n",
    "param={'C':10.0 **np.arange(-1,2)}\n",
    "lrs=RandomizedSearchCV(model1,param,cv=skf,n_jobs=-1,scoring='accuracy')\n",
    "lrs.fit(X_train,y_train)"
   ]
  },
  {
   "cell_type": "code",
   "execution_count": 82,
   "id": "fe95e564",
   "metadata": {},
   "outputs": [
    {
     "name": "stdout",
     "output_type": "stream",
     "text": [
      "[[314211      8]\n",
      " [   216    138]]\n",
      "0.9992879236298093\n",
      "              precision    recall  f1-score   support\n",
      "\n",
      "           0       1.00      1.00      1.00    314219\n",
      "           1       0.95      0.39      0.55       354\n",
      "\n",
      "    accuracy                           1.00    314573\n",
      "   macro avg       0.97      0.69      0.78    314573\n",
      "weighted avg       1.00      1.00      1.00    314573\n",
      "\n"
     ]
    }
   ],
   "source": [
    "y_pred=lrs.predict(X_test)\n",
    "print(confusion_matrix(y_test,y_pred))\n",
    "print(accuracy_score(y_test,y_pred))\n",
    "print(classification_report(y_test,y_pred))"
   ]
  },
  {
   "cell_type": "code",
   "execution_count": null,
   "id": "94d14925",
   "metadata": {},
   "outputs": [],
   "source": []
  }
 ],
 "metadata": {
  "kernelspec": {
   "display_name": "Python 3 (ipykernel)",
   "language": "python",
   "name": "python3"
  },
  "language_info": {
   "codemirror_mode": {
    "name": "ipython",
    "version": 3
   },
   "file_extension": ".py",
   "mimetype": "text/x-python",
   "name": "python",
   "nbconvert_exporter": "python",
   "pygments_lexer": "ipython3",
   "version": "3.9.12"
  }
 },
 "nbformat": 4,
 "nbformat_minor": 5
}
